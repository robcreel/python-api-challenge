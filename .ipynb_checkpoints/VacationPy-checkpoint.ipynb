{
 "cells": [
  {
   "cell_type": "markdown",
   "metadata": {},
   "source": [
    "# VacationPy\n",
    "----\n",
    "\n",
    "#### Note\n",
    "* Instructions have been included for each segment. You do not have to follow them exactly, but they are included to help you think through the steps."
   ]
  },
  {
   "cell_type": "code",
   "execution_count": 1,
   "metadata": {},
   "outputs": [],
   "source": [
    "# Dependencies and Setup\n",
    "import matplotlib.pyplot as plt\n",
    "import pandas as pd\n",
    "import numpy as np\n",
    "import requests\n",
    "import gmaps\n",
    "import os\n",
    "\n",
    "# Import API key\n",
    "from api_keys import g_key\n"
   ]
  },
  {
   "cell_type": "markdown",
   "metadata": {},
   "source": [
    "### Store Part I results into DataFrame\n",
    "* Load the csv exported in Part I to a DataFrame"
   ]
  },
  {
   "cell_type": "code",
   "execution_count": 2,
   "metadata": {},
   "outputs": [
    {
     "data": {
      "text/html": [
       "<div>\n",
       "<style scoped>\n",
       "    .dataframe tbody tr th:only-of-type {\n",
       "        vertical-align: middle;\n",
       "    }\n",
       "\n",
       "    .dataframe tbody tr th {\n",
       "        vertical-align: top;\n",
       "    }\n",
       "\n",
       "    .dataframe thead th {\n",
       "        text-align: right;\n",
       "    }\n",
       "</style>\n",
       "<table border=\"1\" class=\"dataframe\">\n",
       "  <thead>\n",
       "    <tr style=\"text-align: right;\">\n",
       "      <th></th>\n",
       "      <th>City</th>\n",
       "      <th>Country</th>\n",
       "      <th>Longitude</th>\n",
       "      <th>Latitude</th>\n",
       "      <th>Humidity</th>\n",
       "      <th>Cloudiness</th>\n",
       "      <th>Max_Temp</th>\n",
       "      <th>Wind_Speed</th>\n",
       "      <th>Date</th>\n",
       "    </tr>\n",
       "  </thead>\n",
       "  <tbody>\n",
       "    <tr>\n",
       "      <th>5</th>\n",
       "      <td>Lompoc</td>\n",
       "      <td>US</td>\n",
       "      <td>-120.46</td>\n",
       "      <td>34.64</td>\n",
       "      <td>52</td>\n",
       "      <td>40</td>\n",
       "      <td>68.000</td>\n",
       "      <td>4.60</td>\n",
       "      <td>(2020, 3, 22)</td>\n",
       "    </tr>\n",
       "    <tr>\n",
       "      <th>21</th>\n",
       "      <td>Cameron Park</td>\n",
       "      <td>US</td>\n",
       "      <td>-120.99</td>\n",
       "      <td>38.67</td>\n",
       "      <td>51</td>\n",
       "      <td>1</td>\n",
       "      <td>66.992</td>\n",
       "      <td>3.60</td>\n",
       "      <td>(2020, 3, 22)</td>\n",
       "    </tr>\n",
       "    <tr>\n",
       "      <th>26</th>\n",
       "      <td>Saint George</td>\n",
       "      <td>US</td>\n",
       "      <td>-113.58</td>\n",
       "      <td>37.10</td>\n",
       "      <td>44</td>\n",
       "      <td>1</td>\n",
       "      <td>62.006</td>\n",
       "      <td>1.17</td>\n",
       "      <td>(2020, 3, 22)</td>\n",
       "    </tr>\n",
       "    <tr>\n",
       "      <th>33</th>\n",
       "      <td>Rome</td>\n",
       "      <td>US</td>\n",
       "      <td>-75.46</td>\n",
       "      <td>43.21</td>\n",
       "      <td>32</td>\n",
       "      <td>1</td>\n",
       "      <td>41.000</td>\n",
       "      <td>4.10</td>\n",
       "      <td>(2020, 3, 22)</td>\n",
       "    </tr>\n",
       "    <tr>\n",
       "      <th>34</th>\n",
       "      <td>Jamestown</td>\n",
       "      <td>US</td>\n",
       "      <td>-79.24</td>\n",
       "      <td>42.10</td>\n",
       "      <td>27</td>\n",
       "      <td>1</td>\n",
       "      <td>44.006</td>\n",
       "      <td>5.10</td>\n",
       "      <td>(2020, 3, 22)</td>\n",
       "    </tr>\n",
       "  </tbody>\n",
       "</table>\n",
       "</div>"
      ],
      "text/plain": [
       "            City Country  Longitude  Latitude  Humidity  Cloudiness  Max_Temp  \\\n",
       "5         Lompoc      US    -120.46     34.64        52          40    68.000   \n",
       "21  Cameron Park      US    -120.99     38.67        51           1    66.992   \n",
       "26  Saint George      US    -113.58     37.10        44           1    62.006   \n",
       "33          Rome      US     -75.46     43.21        32           1    41.000   \n",
       "34     Jamestown      US     -79.24     42.10        27           1    44.006   \n",
       "\n",
       "    Wind_Speed           Date  \n",
       "5         4.60  (2020, 3, 22)  \n",
       "21        3.60  (2020, 3, 22)  \n",
       "26        1.17  (2020, 3, 22)  \n",
       "33        4.10  (2020, 3, 22)  \n",
       "34        5.10  (2020, 3, 22)  "
      ]
     },
     "execution_count": 2,
     "metadata": {},
     "output_type": "execute_result"
    }
   ],
   "source": [
    "df = pd.read_csv('weather.csv')\n",
    "df[df.Country == \"US\"].head()"
   ]
  },
  {
   "cell_type": "markdown",
   "metadata": {},
   "source": [
    "### Humidity Heatmap\n",
    "* Configure gmaps.\n",
    "* Use the Lat and Lng as locations and Humidity as the weight.\n",
    "* Add Heatmap layer to map."
   ]
  },
  {
   "cell_type": "code",
   "execution_count": 3,
   "metadata": {},
   "outputs": [],
   "source": [
    "coordinates = df[['Latitude', 'Longitude']].astype(float)"
   ]
  },
  {
   "cell_type": "code",
   "execution_count": 4,
   "metadata": {},
   "outputs": [],
   "source": [
    "# Customize the size of the figure\n",
    "figure_layout = {\n",
    "    'width': '600px',\n",
    "    'height': '450px',\n",
    "    'border': '1px solid black',\n",
    "    'padding': '1px',\n",
    "    'margin': '0 auto 0 auto'\n",
    "}\n",
    "\n",
    "\n",
    "\n",
    "fig = gmaps.figure(layout=figure_layout)"
   ]
  },
  {
   "cell_type": "code",
   "execution_count": 5,
   "metadata": {},
   "outputs": [
    {
     "data": {
      "application/vnd.jupyter.widget-view+json": {
       "model_id": "8f22712b50e347c184bfe62badffbd89",
       "version_major": 2,
       "version_minor": 0
      },
      "text/plain": [
       "Figure(layout=FigureLayout(border='1px solid black', height='450px', margin='0 auto 0 auto', padding='1px', wi…"
      ]
     },
     "metadata": {},
     "output_type": "display_data"
    }
   ],
   "source": [
    "humidity = df.Humidity.dropna().astype(float)\n",
    "\n",
    "heat_layer = gmaps.heatmap_layer(coordinates, weights=humidity, \n",
    "                                 dissipating=True, max_intensity=100,\n",
    "                                 point_radius = 1)\n",
    "\n",
    "fig.add_layer(heat_layer)\n",
    "fig"
   ]
  },
  {
   "cell_type": "markdown",
   "metadata": {},
   "source": [
    "### Create new DataFrame fitting weather criteria\n",
    "* Narrow down the cities to fit weather conditions.\n",
    "* Drop any rows will null values."
   ]
  },
  {
   "cell_type": "code",
   "execution_count": 6,
   "metadata": {},
   "outputs": [],
   "source": [
    "df = df.dropna()"
   ]
  },
  {
   "cell_type": "code",
   "execution_count": 7,
   "metadata": {},
   "outputs": [],
   "source": [
    "def is_nice_max_temp(temp):\n",
    "    temp = float(temp)\n",
    "    return(70 < temp & temp < 80)\n",
    "def is_nice_wind_speed(speed):\n",
    "    return(speed < 10)\n",
    "def is_not_cloudy_all_day(cloudiness):\n",
    "    return(cloudines == 0)"
   ]
  },
  {
   "cell_type": "code",
   "execution_count": 8,
   "metadata": {},
   "outputs": [
    {
     "name": "stderr",
     "output_type": "stream",
     "text": [
      "/home/rob/Code/PythonDataNW/lib/python3.7/site-packages/ipykernel_launcher.py:2: UserWarning: Boolean Series key will be reindexed to match DataFrame index.\n",
      "  \n",
      "/home/rob/Code/PythonDataNW/lib/python3.7/site-packages/ipykernel_launcher.py:3: UserWarning: Boolean Series key will be reindexed to match DataFrame index.\n",
      "  This is separate from the ipykernel package so we can avoid doing imports until\n",
      "/home/rob/Code/PythonDataNW/lib/python3.7/site-packages/ipykernel_launcher.py:4: UserWarning: Boolean Series key will be reindexed to match DataFrame index.\n",
      "  after removing the cwd from sys.path.\n"
     ]
    },
    {
     "data": {
      "text/html": [
       "<div>\n",
       "<style scoped>\n",
       "    .dataframe tbody tr th:only-of-type {\n",
       "        vertical-align: middle;\n",
       "    }\n",
       "\n",
       "    .dataframe tbody tr th {\n",
       "        vertical-align: top;\n",
       "    }\n",
       "\n",
       "    .dataframe thead th {\n",
       "        text-align: right;\n",
       "    }\n",
       "</style>\n",
       "<table border=\"1\" class=\"dataframe\">\n",
       "  <thead>\n",
       "    <tr style=\"text-align: right;\">\n",
       "      <th></th>\n",
       "      <th>City</th>\n",
       "      <th>Country</th>\n",
       "      <th>Longitude</th>\n",
       "      <th>Latitude</th>\n",
       "      <th>Humidity</th>\n",
       "      <th>Cloudiness</th>\n",
       "      <th>Max_Temp</th>\n",
       "      <th>Wind_Speed</th>\n",
       "      <th>Date</th>\n",
       "    </tr>\n",
       "  </thead>\n",
       "  <tbody>\n",
       "    <tr>\n",
       "      <th>15</th>\n",
       "      <td>Castro</td>\n",
       "      <td>BR</td>\n",
       "      <td>-50.01</td>\n",
       "      <td>-24.79</td>\n",
       "      <td>61</td>\n",
       "      <td>0</td>\n",
       "      <td>70.034</td>\n",
       "      <td>1.81</td>\n",
       "      <td>(2020, 3, 22)</td>\n",
       "    </tr>\n",
       "    <tr>\n",
       "      <th>101</th>\n",
       "      <td>Monywa</td>\n",
       "      <td>MM</td>\n",
       "      <td>95.13</td>\n",
       "      <td>22.12</td>\n",
       "      <td>47</td>\n",
       "      <td>0</td>\n",
       "      <td>71.294</td>\n",
       "      <td>1.41</td>\n",
       "      <td>(2020, 3, 22)</td>\n",
       "    </tr>\n",
       "    <tr>\n",
       "      <th>103</th>\n",
       "      <td>Hambantota</td>\n",
       "      <td>LK</td>\n",
       "      <td>81.12</td>\n",
       "      <td>6.12</td>\n",
       "      <td>80</td>\n",
       "      <td>0</td>\n",
       "      <td>76.874</td>\n",
       "      <td>3.93</td>\n",
       "      <td>(2020, 3, 22)</td>\n",
       "    </tr>\n",
       "    <tr>\n",
       "      <th>117</th>\n",
       "      <td>Callaguip</td>\n",
       "      <td>PH</td>\n",
       "      <td>120.49</td>\n",
       "      <td>18.07</td>\n",
       "      <td>76</td>\n",
       "      <td>0</td>\n",
       "      <td>75.254</td>\n",
       "      <td>2.51</td>\n",
       "      <td>(2020, 3, 22)</td>\n",
       "    </tr>\n",
       "    <tr>\n",
       "      <th>119</th>\n",
       "      <td>Taoudenni</td>\n",
       "      <td>ML</td>\n",
       "      <td>-3.98</td>\n",
       "      <td>22.68</td>\n",
       "      <td>12</td>\n",
       "      <td>0</td>\n",
       "      <td>74.714</td>\n",
       "      <td>4.43</td>\n",
       "      <td>(2020, 3, 22)</td>\n",
       "    </tr>\n",
       "  </tbody>\n",
       "</table>\n",
       "</div>"
      ],
      "text/plain": [
       "           City Country  Longitude  Latitude  Humidity  Cloudiness  Max_Temp  \\\n",
       "15       Castro      BR     -50.01    -24.79        61           0    70.034   \n",
       "101      Monywa      MM      95.13     22.12        47           0    71.294   \n",
       "103  Hambantota      LK      81.12      6.12        80           0    76.874   \n",
       "117   Callaguip      PH     120.49     18.07        76           0    75.254   \n",
       "119   Taoudenni      ML      -3.98     22.68        12           0    74.714   \n",
       "\n",
       "     Wind_Speed           Date  \n",
       "15         1.81  (2020, 3, 22)  \n",
       "101        1.41  (2020, 3, 22)  \n",
       "103        3.93  (2020, 3, 22)  \n",
       "117        2.51  (2020, 3, 22)  \n",
       "119        4.43  (2020, 3, 22)  "
      ]
     },
     "execution_count": 8,
     "metadata": {},
     "output_type": "execute_result"
    }
   ],
   "source": [
    "nice_df = df[df.Max_Temp > 70]\\\n",
    "[df.Max_Temp < 80]\\\n",
    "[df.Wind_Speed < 10]\\\n",
    "[df.Cloudiness == 0]\n",
    "\n",
    "nice_df.head()"
   ]
  },
  {
   "cell_type": "code",
   "execution_count": 9,
   "metadata": {},
   "outputs": [
    {
     "data": {
      "text/plain": [
       "Prachuap Khiri Khan              1\n",
       "Hong Kong                        1\n",
       "Bahía Honda                      1\n",
       "Carnarvon                        1\n",
       "Callaguip                        1\n",
       "Saint-Pierre                     1\n",
       "Giohar                           1\n",
       "Castro                           1\n",
       "Mersing                          1\n",
       "Emilio Carranza                  1\n",
       "Alindao                          1\n",
       "Libertador General San Martín    1\n",
       "Concepción del Oro               1\n",
       "Ārvi                             1\n",
       "Quang Ngai                       1\n",
       "Angoche                          1\n",
       "Buin                             1\n",
       "Matara                           1\n",
       "Charters Towers                  1\n",
       "Taoudenni                        1\n",
       "Morondava                        1\n",
       "Hambantota                       1\n",
       "Monywa                           1\n",
       "Chui                             1\n",
       "Puerto Baquerizo Moreno          1\n",
       "Saint-Joseph                     1\n",
       "Jammalamadugu                    1\n",
       "Najrān                           1\n",
       "Name: City, dtype: int64"
      ]
     },
     "execution_count": 9,
     "metadata": {},
     "output_type": "execute_result"
    }
   ],
   "source": [
    "nice_df.City.value_counts()"
   ]
  },
  {
   "cell_type": "markdown",
   "metadata": {},
   "source": [
    "### Hotel Map\n",
    "* Store into variable named `hotel_df`.\n",
    "* Add a \"Hotel Name\" column to the DataFrame.\n",
    "* Set parameters to search for hotels with 5000 meters.\n",
    "* Hit the Google Places API for each city's coordinates.\n",
    "* Store the first Hotel result into the DataFrame.\n",
    "* Plot markers on top of the heatmap."
   ]
  },
  {
   "cell_type": "code",
   "execution_count": 10,
   "metadata": {},
   "outputs": [],
   "source": [
    "hotel_df = pd.DataFrame(nice_df.City)"
   ]
  },
  {
   "cell_type": "code",
   "execution_count": 11,
   "metadata": {},
   "outputs": [],
   "source": [
    "params1 = {\n",
    "    \"location\": f\"{nice_df.Latitude}, {nice_df.Longitude}\",  # philadelphia coords,\n",
    "    \"rankby\": \"distance\",\n",
    "    \"type\": \"hotel\",\n",
    "    \"key\": g_key,\n",
    "}\n"
   ]
  },
  {
   "cell_type": "code",
   "execution_count": 14,
   "metadata": {},
   "outputs": [
    {
     "name": "stdout",
     "output_type": "stream",
     "text": [
      "Retrieving Results for Index 15: .\n",
      "Closest hotel is Eugênio Consertos e Instalações Eletricas.\n",
      "------------\n",
      "Retrieving Results for Index 101: .\n",
      "Closest hotel is မုံရွာပြည်သူ့ဆေးရုံကြီး.\n",
      "------------\n",
      "Retrieving Results for Index 103: .\n",
      "Closest hotel is Happy Beach Hotel.\n",
      "------------\n",
      "Retrieving Results for Index 117: .\n",
      "Closest hotel is Zone 1 Basketball Court.\n",
      "------------\n",
      "Retrieving Results for Index 119: .\n",
      "Closest hotel is Ksar de Smida.\n",
      "------------\n",
      "Retrieving Results for Index 123: .\n",
      "Closest hotel is Club De Abuelos Dan Miguel.\n",
      "------------\n",
      "Retrieving Results for Index 160: .\n",
      "Closest hotel is Cancha Sintetica Herminio Arrieta.\n",
      "------------\n",
      "Retrieving Results for Index 210: .\n",
      "Closest hotel is Dwyer's Leap.\n",
      "------------\n",
      "Retrieving Results for Index 223: .\n",
      "Closest hotel is Mosman Park.\n",
      "------------\n",
      "Retrieving Results for Index 249: .\n",
      "Closest hotel is Maison RUN.\n",
      "------------\n",
      "Retrieving Results for Index 256: .\n",
      "Closest hotel is 維景小食.\n",
      "------------\n",
      "Retrieving Results for Index 258: .\n",
      "Closest hotel is Case à Pâtes.\n",
      "------------\n",
      "Retrieving Results for Index 268: .\n",
      "Closest hotel is Colegio Ignacio Hernández.\n",
      "------------\n",
      "Retrieving Results for Index 272: .\n",
      "Closest hotel is Boy's guest house.\n",
      "------------\n",
      "Retrieving Results for Index 286: .\n",
      "Closest hotel is مطعم شعبيات الذوق.\n",
      "------------\n",
      "Retrieving Results for Index 300: .\n",
      "Closest hotel is Paralam global pvt ltd.\n",
      "------------\n",
      "Retrieving Results for Index 303: .\n",
      "Closest hotel is esc perparatoria Eulalio Gutierres.\n",
      "------------\n",
      "Retrieving Results for Index 306: .\n",
      "Closest hotel is Garasoow Coffee.\n",
      "------------\n",
      "Retrieving Results for Index 329: .\n",
      "Closest hotel is Mueblería Viveros.\n",
      "------------\n",
      "Retrieving Results for Index 366: .\n",
      "Closest hotel is GOUTHAM SCHOOL.\n",
      "------------\n",
      "Retrieving Results for Index 381: .\n",
      "Closest hotel is Agribank Chi Nhánh Tỉnh Quảng Ngãi.\n",
      "------------\n",
      "Retrieving Results for Index 382: .\n",
      "Closest hotel is Kedai Emas Zhen Mei.\n",
      "------------\n",
      "Retrieving Results for Index 383: .\n",
      "Closest hotel is Badia Diaz- Faez Maria Isabel.\n",
      "------------\n",
      "Retrieving Results for Index 444: .\n",
      "Closest hotel is Lycee Pole Morondava I.\n",
      "------------\n",
      "Retrieving Results for Index 460: .\n",
      "Closest hotel is โรงรับจำนำจี้อันตึ๊ง สาขาประจวบคีรีขันธ์.\n",
      "------------\n",
      "Retrieving Results for Index 502: .\n",
      "Closest hotel is Cathédrale Sacré-Cœur.\n",
      "------------\n",
      "Retrieving Results for Index 508: .\n",
      "Closest hotel is Cementerio.\n",
      "------------\n",
      "Retrieving Results for Index 520: .\n",
      "Closest hotel is Midland Saloon.\n",
      "------------\n"
     ]
    }
   ],
   "source": [
    "base_url = \"https://maps.googleapis.com/maps/api/place/nearbysearch/json\"\n",
    "params = {\n",
    "    \"rankby\": \"distance\",\n",
    "    \"type\": \"hotel\",\n",
    "    \"key\": g_key,\n",
    "}\n",
    "# use iterrows to iterate through pandas dataframe\n",
    "for index, row in nice_df.iterrows():\n",
    "\n",
    "    # get location from df\n",
    "    latlon = row[['Latitude', 'Longitude']]\n",
    "\n",
    "    # add keyword to params dict\n",
    "    params['location'] = f\"{latlon[0]}, {latlon[1]}\"\n",
    "\n",
    "    # assemble url and make API request\n",
    "    print(f\"Retrieving Results for Index {index}: .\")\n",
    "    response = requests.get(base_url, params=params).json()\n",
    "    \n",
    "    # extract results\n",
    "    results = response['results']\n",
    "    \n",
    "    try:\n",
    "        print(f\"Closest hotel is {results[0]['name']}.\")\n",
    "        \n",
    "        hotel_df.loc[index, 'Hotel Name'] = results[0]['name']\n",
    "        hotel_df.loc[index, 'Lat'] = results[0]['geometry']['location']['lat']\n",
    "        hotel_df.loc[index, 'Lng'] = results[0]['geometry']['location']['lng']\n",
    "        \n",
    "        nice_df.loc[index, 'Hotel Name'] = results[0]['name']\n",
    "        nice_df.loc[index, 'Lat'] = results[0]['geometry']['location']['lat']\n",
    "        nice_df.loc[index, 'Lng'] = results[0]['geometry']['location']['lng']\n",
    "\n",
    "        \n",
    "    except (KeyError, IndexError):\n",
    "        print(\"Missing field/result... skipping.\")\n",
    "        \n",
    "    print(\"------------\")"
   ]
  },
  {
   "cell_type": "code",
   "execution_count": 17,
   "metadata": {},
   "outputs": [],
   "source": [
    "# NOTE: Do not change any of the code in this cell\n",
    "\n",
    "# Using the template add the hotel marks to the heatmap\n",
    "info_box_template = \"\"\"\n",
    "<dl>\n",
    "<dt>Name</dt><dd>{Hotel Name}</dd>\n",
    "<dt>City</dt><dd>{City}</dd>\n",
    "<dt>Country</dt><dd>{Country}</dd>\n",
    "</dl>\n",
    "\"\"\"\n",
    "# Store the DataFrame Row\n",
    "# NOTE: be sure to update with your DataFrame name\n",
    "hotel_info = [info_box_template.format(**row) for index, row in nice_df.iterrows()]\n",
    "locations = hotel_df[[\"Lat\", \"Lng\"]]"
   ]
  },
  {
   "cell_type": "code",
   "execution_count": 18,
   "metadata": {},
   "outputs": [
    {
     "data": {
      "application/vnd.jupyter.widget-view+json": {
       "model_id": "8f22712b50e347c184bfe62badffbd89",
       "version_major": 2,
       "version_minor": 0
      },
      "text/plain": [
       "Figure(layout=FigureLayout(border='1px solid black', height='450px', margin='0 auto 0 auto', padding='1px', wi…"
      ]
     },
     "metadata": {},
     "output_type": "display_data"
    }
   ],
   "source": [
    "# Add marker layer ontop of heat map\n",
    "markers = gmaps.marker_layer(locations)\n",
    "fig.add_layer(markers)\n",
    "# Display Map\n",
    "fig\n"
   ]
  },
  {
   "cell_type": "code",
   "execution_count": null,
   "metadata": {},
   "outputs": [],
   "source": []
  },
  {
   "cell_type": "code",
   "execution_count": null,
   "metadata": {},
   "outputs": [],
   "source": []
  }
 ],
 "metadata": {
  "kernelspec": {
   "display_name": "Python 3",
   "language": "python",
   "name": "python3"
  },
  "language_info": {
   "codemirror_mode": {
    "name": "ipython",
    "version": 3
   },
   "file_extension": ".py",
   "mimetype": "text/x-python",
   "name": "python",
   "nbconvert_exporter": "python",
   "pygments_lexer": "ipython3",
   "version": "3.7.7"
  },
  "latex_envs": {
   "LaTeX_envs_menu_present": true,
   "autoclose": false,
   "autocomplete": true,
   "bibliofile": "biblio.bib",
   "cite_by": "apalike",
   "current_citInitial": 1,
   "eqLabelWithNumbers": true,
   "eqNumInitial": 1,
   "hotkeys": {
    "equation": "Ctrl-E",
    "itemize": "Ctrl-I"
   },
   "labels_anchors": false,
   "latex_user_defs": false,
   "report_style_numbering": false,
   "user_envs_cfg": false
  }
 },
 "nbformat": 4,
 "nbformat_minor": 4
}
