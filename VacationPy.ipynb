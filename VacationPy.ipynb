{
 "cells": [
  {
   "cell_type": "markdown",
   "metadata": {},
   "source": [
    "# VacationPy\n",
    "----\n",
    "\n",
    "#### Note\n",
    "* Instructions have been included for each segment. You do not have to follow them exactly, but they are included to help you think through the steps."
   ]
  },
  {
   "cell_type": "code",
   "execution_count": 1,
   "metadata": {},
   "outputs": [
    {
     "ename": "ModuleNotFoundError",
     "evalue": "No module named 'gmaps'",
     "output_type": "error",
     "traceback": [
      "\u001b[0;31m---------------------------------------------------------------------------\u001b[0m",
      "\u001b[0;31mModuleNotFoundError\u001b[0m                       Traceback (most recent call last)",
      "\u001b[0;32m<ipython-input-1-e7d95457631f>\u001b[0m in \u001b[0;36m<module>\u001b[0;34m\u001b[0m\n\u001b[1;32m      4\u001b[0m \u001b[0;32mimport\u001b[0m \u001b[0mnumpy\u001b[0m \u001b[0;32mas\u001b[0m \u001b[0mnp\u001b[0m\u001b[0;34m\u001b[0m\u001b[0;34m\u001b[0m\u001b[0m\n\u001b[1;32m      5\u001b[0m \u001b[0;32mimport\u001b[0m \u001b[0mrequests\u001b[0m\u001b[0;34m\u001b[0m\u001b[0;34m\u001b[0m\u001b[0m\n\u001b[0;32m----> 6\u001b[0;31m \u001b[0;32mimport\u001b[0m \u001b[0mgmaps\u001b[0m\u001b[0;34m\u001b[0m\u001b[0;34m\u001b[0m\u001b[0m\n\u001b[0m\u001b[1;32m      7\u001b[0m \u001b[0;32mimport\u001b[0m \u001b[0mos\u001b[0m\u001b[0;34m\u001b[0m\u001b[0;34m\u001b[0m\u001b[0m\n\u001b[1;32m      8\u001b[0m \u001b[0;34m\u001b[0m\u001b[0m\n",
      "\u001b[0;31mModuleNotFoundError\u001b[0m: No module named 'gmaps'"
     ]
    }
   ],
   "source": [
    "# Dependencies and Setup\n",
    "import matplotlib.pyplot as plt\n",
    "import pandas as pd\n",
    "import numpy as np\n",
    "import requests\n",
    "import gmaps\n",
    "import os\n",
    "\n",
    "# Import API key\n",
    "from api_keys import g_key\n"
   ]
  },
  {
   "cell_type": "markdown",
   "metadata": {},
   "source": [
    "### Store Part I results into DataFrame\n",
    "* Load the csv exported in Part I to a DataFrame"
   ]
  },
  {
   "cell_type": "code",
<<<<<<< HEAD
   "execution_count": 3,
=======
   "execution_count": 2,
>>>>>>> c905d9eaf1e6306a9f004e798f20122aee3ac44a
   "metadata": {},
   "outputs": [
    {
     "data": {
      "text/html": [
       "<div>\n",
       "<style scoped>\n",
       "    .dataframe tbody tr th:only-of-type {\n",
       "        vertical-align: middle;\n",
       "    }\n",
       "\n",
       "    .dataframe tbody tr th {\n",
       "        vertical-align: top;\n",
       "    }\n",
       "\n",
       "    .dataframe thead th {\n",
       "        text-align: right;\n",
       "    }\n",
       "</style>\n",
       "<table border=\"1\" class=\"dataframe\">\n",
       "  <thead>\n",
       "    <tr style=\"text-align: right;\">\n",
       "      <th></th>\n",
       "      <th>City</th>\n",
       "      <th>Country</th>\n",
       "      <th>Longitude</th>\n",
       "      <th>Latitude</th>\n",
       "      <th>Humidity</th>\n",
       "      <th>Cloudiness</th>\n",
       "      <th>Max_Temp</th>\n",
       "      <th>Wind_Speed</th>\n",
       "      <th>Date</th>\n",
       "    </tr>\n",
       "  </thead>\n",
       "  <tbody>\n",
       "    <tr>\n",
<<<<<<< HEAD
       "      <th>0</th>\n",
       "      <td>Mar del Plata</td>\n",
       "      <td>AR</td>\n",
       "      <td>-67.52</td>\n",
       "      <td>-46.43</td>\n",
       "      <td>60</td>\n",
       "      <td>11</td>\n",
       "      <td>15.28</td>\n",
       "      <td>6.80</td>\n",
       "      <td>(2019, 12, 30)</td>\n",
       "    </tr>\n",
       "    <tr>\n",
       "      <th>1</th>\n",
       "      <td>Bluff</td>\n",
       "      <td>AU</td>\n",
       "      <td>149.07</td>\n",
       "      <td>-23.58</td>\n",
       "      <td>55</td>\n",
       "      <td>74</td>\n",
       "      <td>26.50</td>\n",
       "      <td>3.76</td>\n",
       "      <td>(2019, 12, 30)</td>\n",
       "    </tr>\n",
       "    <tr>\n",
       "      <th>2</th>\n",
       "      <td>Constitucion</td>\n",
       "      <td>MX</td>\n",
       "      <td>-104.67</td>\n",
       "      <td>23.99</td>\n",
       "      <td>13</td>\n",
       "      <td>5</td>\n",
       "      <td>21.00</td>\n",
       "      <td>6.70</td>\n",
       "      <td>(2019, 12, 30)</td>\n",
       "    </tr>\n",
       "    <tr>\n",
       "      <th>3</th>\n",
       "      <td>Kimbe</td>\n",
       "      <td>PG</td>\n",
       "      <td>150.15</td>\n",
       "      <td>-5.56</td>\n",
       "      <td>63</td>\n",
       "      <td>81</td>\n",
       "      <td>31.09</td>\n",
       "      <td>1.11</td>\n",
       "      <td>(2019, 12, 30)</td>\n",
       "    </tr>\n",
       "    <tr>\n",
       "      <th>4</th>\n",
       "      <td>Buchanan</td>\n",
       "      <td>LR</td>\n",
       "      <td>-10.05</td>\n",
       "      <td>5.88</td>\n",
       "      <td>94</td>\n",
       "      <td>20</td>\n",
       "      <td>25.00</td>\n",
       "      <td>1.06</td>\n",
       "      <td>(2019, 12, 30)</td>\n",
=======
       "      <th>10</th>\n",
       "      <td>Hilo</td>\n",
       "      <td>US</td>\n",
       "      <td>-155.09</td>\n",
       "      <td>19.73</td>\n",
       "      <td>83</td>\n",
       "      <td>90</td>\n",
       "      <td>73.004</td>\n",
       "      <td>2.10</td>\n",
       "      <td>(2020, 3, 23)</td>\n",
       "    </tr>\n",
       "    <tr>\n",
       "      <th>13</th>\n",
       "      <td>Barrow</td>\n",
       "      <td>US</td>\n",
       "      <td>-156.79</td>\n",
       "      <td>71.29</td>\n",
       "      <td>84</td>\n",
       "      <td>90</td>\n",
       "      <td>5.000</td>\n",
       "      <td>1.27</td>\n",
       "      <td>(2020, 3, 23)</td>\n",
       "    </tr>\n",
       "    <tr>\n",
       "      <th>14</th>\n",
       "      <td>Albany</td>\n",
       "      <td>US</td>\n",
       "      <td>-73.97</td>\n",
       "      <td>42.60</td>\n",
       "      <td>97</td>\n",
       "      <td>90</td>\n",
       "      <td>33.998</td>\n",
       "      <td>3.10</td>\n",
       "      <td>(2020, 3, 23)</td>\n",
       "    </tr>\n",
       "    <tr>\n",
       "      <th>15</th>\n",
       "      <td>Jamestown</td>\n",
       "      <td>US</td>\n",
       "      <td>-79.24</td>\n",
       "      <td>42.10</td>\n",
       "      <td>81</td>\n",
       "      <td>90</td>\n",
       "      <td>42.800</td>\n",
       "      <td>4.10</td>\n",
       "      <td>(2020, 3, 23)</td>\n",
       "    </tr>\n",
       "    <tr>\n",
       "      <th>33</th>\n",
       "      <td>Kapaa</td>\n",
       "      <td>US</td>\n",
       "      <td>-159.32</td>\n",
       "      <td>22.08</td>\n",
       "      <td>69</td>\n",
       "      <td>90</td>\n",
       "      <td>75.200</td>\n",
       "      <td>9.30</td>\n",
       "      <td>(2020, 3, 23)</td>\n",
>>>>>>> c905d9eaf1e6306a9f004e798f20122aee3ac44a
       "    </tr>\n",
       "  </tbody>\n",
       "</table>\n",
       "</div>"
      ],
      "text/plain": [
<<<<<<< HEAD
       "            City Country  Longitude  Latitude  Humidity  Cloudiness  Max_Temp  \\\n",
       "0  Mar del Plata      AR     -67.52    -46.43        60          11     15.28   \n",
       "1          Bluff      AU     149.07    -23.58        55          74     26.50   \n",
       "2   Constitucion      MX    -104.67     23.99        13           5     21.00   \n",
       "3          Kimbe      PG     150.15     -5.56        63          81     31.09   \n",
       "4       Buchanan      LR     -10.05      5.88        94          20     25.00   \n",
       "\n",
       "   Wind_Speed            Date  \n",
       "0        6.80  (2019, 12, 30)  \n",
       "1        3.76  (2019, 12, 30)  \n",
       "2        6.70  (2019, 12, 30)  \n",
       "3        1.11  (2019, 12, 30)  \n",
       "4        1.06  (2019, 12, 30)  "
      ]
     },
     "execution_count": 3,
=======
       "         City Country  Longitude  Latitude  Humidity  Cloudiness  Max_Temp  \\\n",
       "10       Hilo      US    -155.09     19.73        83          90    73.004   \n",
       "13     Barrow      US    -156.79     71.29        84          90     5.000   \n",
       "14     Albany      US     -73.97     42.60        97          90    33.998   \n",
       "15  Jamestown      US     -79.24     42.10        81          90    42.800   \n",
       "33      Kapaa      US    -159.32     22.08        69          90    75.200   \n",
       "\n",
       "    Wind_Speed           Date  \n",
       "10        2.10  (2020, 3, 23)  \n",
       "13        1.27  (2020, 3, 23)  \n",
       "14        3.10  (2020, 3, 23)  \n",
       "15        4.10  (2020, 3, 23)  \n",
       "33        9.30  (2020, 3, 23)  "
      ]
     },
     "execution_count": 2,
>>>>>>> c905d9eaf1e6306a9f004e798f20122aee3ac44a
     "metadata": {},
     "output_type": "execute_result"
    }
   ],
   "source": [
    "df = pd.read_csv('weather.csv')\n",
<<<<<<< HEAD
    "df.head()"
=======
    "df[df.Country == \"US\"].head()"
>>>>>>> c905d9eaf1e6306a9f004e798f20122aee3ac44a
   ]
  },
  {
   "cell_type": "markdown",
   "metadata": {},
   "source": [
    "### Humidity Heatmap\n",
    "* Configure gmaps.\n",
    "* Use the Lat and Lng as locations and Humidity as the weight.\n",
    "* Add Heatmap layer to map."
   ]
  },
  {
   "cell_type": "code",
   "execution_count": 3,
   "metadata": {},
   "outputs": [],
   "source": [
    "coordinates = df[['Latitude', 'Longitude']].astype(float)"
   ]
  },
  {
   "cell_type": "code",
   "execution_count": 4,
   "metadata": {},
   "outputs": [],
   "source": [
    "# Customize the size of the figure\n",
    "figure_layout = {\n",
    "    'width': '600px',\n",
    "    'height': '450px',\n",
    "    'border': '1px solid black',\n",
    "    'padding': '1px',\n",
    "    'margin': '0 auto 0 auto'\n",
    "}\n",
    "\n",
    "\n",
    "\n",
    "fig = gmaps.figure(layout=figure_layout)"
   ]
  },
  {
   "cell_type": "code",
   "execution_count": 5,
   "metadata": {},
   "outputs": [
    {
     "data": {
      "application/vnd.jupyter.widget-view+json": {
       "model_id": "7d06dff3ecb54655951cb33a26b5f8b8",
       "version_major": 2,
       "version_minor": 0
      },
      "text/plain": [
       "Figure(layout=FigureLayout(border='1px solid black', height='450px', margin='0 auto 0 auto', padding='1px', wi…"
      ]
     },
     "metadata": {},
     "output_type": "display_data"
    }
   ],
   "source": [
    "humidity = df.Humidity.dropna().astype(float)\n",
    "\n",
    "heat_layer = gmaps.heatmap_layer(coordinates, weights=humidity, \n",
    "                                 dissipating=True, max_intensity=100,\n",
    "                                 point_radius = 2)\n",
    "\n",
    "fig.add_layer(heat_layer)\n",
    "fig"
   ]
  },
  {
   "cell_type": "markdown",
   "metadata": {},
   "source": [
    "### Create new DataFrame fitting weather criteria\n",
    "* Narrow down the cities to fit weather conditions.\n",
    "* Drop any rows will null values."
   ]
  },
  {
   "cell_type": "code",
   "execution_count": 6,
   "metadata": {},
   "outputs": [],
   "source": [
    "df = df.dropna()"
   ]
  },
  {
   "cell_type": "code",
   "execution_count": 7,
   "metadata": {},
   "outputs": [],
   "source": [
    "def is_nice_max_temp(temp):\n",
    "    temp = float(temp)\n",
    "    return(70 < temp & temp < 80)\n",
    "def is_nice_wind_speed(speed):\n",
    "    return(speed < 10)\n",
    "def is_not_cloudy_all_day(cloudiness):\n",
    "    return(cloudines == 0)"
   ]
  },
  {
   "cell_type": "code",
   "execution_count": 8,
   "metadata": {},
   "outputs": [
    {
     "name": "stderr",
     "output_type": "stream",
     "text": [
      "/home/rob/Code/PythonDataNW/lib/python3.7/site-packages/ipykernel_launcher.py:2: UserWarning: Boolean Series key will be reindexed to match DataFrame index.\n",
      "  \n",
      "/home/rob/Code/PythonDataNW/lib/python3.7/site-packages/ipykernel_launcher.py:3: UserWarning: Boolean Series key will be reindexed to match DataFrame index.\n",
      "  This is separate from the ipykernel package so we can avoid doing imports until\n",
      "/home/rob/Code/PythonDataNW/lib/python3.7/site-packages/ipykernel_launcher.py:4: UserWarning: Boolean Series key will be reindexed to match DataFrame index.\n",
      "  after removing the cwd from sys.path.\n"
     ]
    },
    {
     "data": {
      "text/html": [
       "<div>\n",
       "<style scoped>\n",
       "    .dataframe tbody tr th:only-of-type {\n",
       "        vertical-align: middle;\n",
       "    }\n",
       "\n",
       "    .dataframe tbody tr th {\n",
       "        vertical-align: top;\n",
       "    }\n",
       "\n",
       "    .dataframe thead th {\n",
       "        text-align: right;\n",
       "    }\n",
       "</style>\n",
       "<table border=\"1\" class=\"dataframe\">\n",
       "  <thead>\n",
       "    <tr style=\"text-align: right;\">\n",
       "      <th></th>\n",
       "      <th>City</th>\n",
       "      <th>Country</th>\n",
       "      <th>Longitude</th>\n",
       "      <th>Latitude</th>\n",
       "      <th>Humidity</th>\n",
       "      <th>Cloudiness</th>\n",
       "      <th>Max_Temp</th>\n",
       "      <th>Wind_Speed</th>\n",
       "      <th>Date</th>\n",
       "    </tr>\n",
       "  </thead>\n",
       "  <tbody>\n",
       "    <tr>\n",
       "      <th>147</th>\n",
       "      <td>Carnarvon</td>\n",
       "      <td>AU</td>\n",
       "      <td>113.63</td>\n",
       "      <td>-24.87</td>\n",
       "      <td>69</td>\n",
       "      <td>0</td>\n",
       "      <td>77.000</td>\n",
       "      <td>3.10</td>\n",
       "      <td>(2020, 3, 23)</td>\n",
       "    </tr>\n",
       "    <tr>\n",
       "      <th>170</th>\n",
       "      <td>Dawei</td>\n",
       "      <td>MM</td>\n",
       "      <td>98.20</td>\n",
       "      <td>14.08</td>\n",
       "      <td>74</td>\n",
       "      <td>0</td>\n",
       "      <td>77.846</td>\n",
       "      <td>2.72</td>\n",
       "      <td>(2020, 3, 23)</td>\n",
       "    </tr>\n",
       "    <tr>\n",
       "      <th>241</th>\n",
       "      <td>Tocopilla</td>\n",
       "      <td>CL</td>\n",
       "      <td>-70.20</td>\n",
       "      <td>-22.09</td>\n",
       "      <td>39</td>\n",
       "      <td>0</td>\n",
       "      <td>70.826</td>\n",
       "      <td>4.22</td>\n",
       "      <td>(2020, 3, 23)</td>\n",
       "    </tr>\n",
       "    <tr>\n",
       "      <th>290</th>\n",
       "      <td>Cidreira</td>\n",
       "      <td>BR</td>\n",
       "      <td>-50.21</td>\n",
       "      <td>-30.18</td>\n",
       "      <td>74</td>\n",
       "      <td>0</td>\n",
       "      <td>74.606</td>\n",
       "      <td>9.84</td>\n",
       "      <td>(2020, 3, 23)</td>\n",
       "    </tr>\n",
       "    <tr>\n",
       "      <th>337</th>\n",
       "      <td>Adilabad</td>\n",
       "      <td>IN</td>\n",
       "      <td>78.53</td>\n",
       "      <td>19.67</td>\n",
       "      <td>43</td>\n",
       "      <td>0</td>\n",
       "      <td>79.466</td>\n",
       "      <td>2.70</td>\n",
       "      <td>(2020, 3, 23)</td>\n",
       "    </tr>\n",
       "  </tbody>\n",
       "</table>\n",
       "</div>"
      ],
      "text/plain": [
       "          City Country  Longitude  Latitude  Humidity  Cloudiness  Max_Temp  \\\n",
       "147  Carnarvon      AU     113.63    -24.87        69           0    77.000   \n",
       "170      Dawei      MM      98.20     14.08        74           0    77.846   \n",
       "241  Tocopilla      CL     -70.20    -22.09        39           0    70.826   \n",
       "290   Cidreira      BR     -50.21    -30.18        74           0    74.606   \n",
       "337   Adilabad      IN      78.53     19.67        43           0    79.466   \n",
       "\n",
       "     Wind_Speed           Date  \n",
       "147        3.10  (2020, 3, 23)  \n",
       "170        2.72  (2020, 3, 23)  \n",
       "241        4.22  (2020, 3, 23)  \n",
       "290        9.84  (2020, 3, 23)  \n",
       "337        2.70  (2020, 3, 23)  "
      ]
     },
     "execution_count": 8,
     "metadata": {},
     "output_type": "execute_result"
    }
   ],
   "source": [
    "nice_df = df[df.Max_Temp > 70]\\\n",
    "[df.Max_Temp < 80]\\\n",
    "[df.Wind_Speed < 10]\\\n",
    "[df.Cloudiness == 0]\n",
    "\n",
    "nice_df.head()"
   ]
  },
  {
   "cell_type": "code",
   "execution_count": 9,
   "metadata": {},
   "outputs": [
    {
     "data": {
      "text/plain": [
       "Inhambane     1\n",
       "Matara        1\n",
       "Carnarvon     1\n",
       "Pasni         1\n",
       "Wakema        1\n",
       "Dawei         1\n",
       "Pathein       1\n",
       "Sabha         1\n",
       "Hambantota    1\n",
       "Cidreira      1\n",
       "Adilabad      1\n",
       "Tocopilla     1\n",
       "Name: City, dtype: int64"
      ]
     },
     "execution_count": 9,
     "metadata": {},
     "output_type": "execute_result"
    }
   ],
   "source": [
    "nice_df.City.value_counts()"
   ]
  },
  {
   "cell_type": "markdown",
   "metadata": {},
   "source": [
    "### Hotel Map\n",
    "* Store into variable named `hotel_df`.\n",
    "* Add a \"Hotel Name\" column to the DataFrame.\n",
    "* Set parameters to search for hotels with 5000 meters.\n",
    "* Hit the Google Places API for each city's coordinates.\n",
    "* Store the first Hotel result into the DataFrame.\n",
    "* Plot markers on top of the heatmap."
   ]
  },
  {
   "cell_type": "code",
   "execution_count": 10,
   "metadata": {},
   "outputs": [],
   "source": [
    "hotel_df = pd.DataFrame(nice_df.City)"
   ]
  },
  {
   "cell_type": "code",
   "execution_count": 11,
   "metadata": {},
   "outputs": [],
   "source": [
    "params1 = {\n",
    "    \"location\": f\"{nice_df.Latitude}, {nice_df.Longitude}\",  # philadelphia coords,\n",
    "    \"rankby\": \"distance\",\n",
    "    \"type\": \"hotel\",\n",
    "    \"key\": g_key,\n",
    "}\n"
   ]
  },
  {
   "cell_type": "code",
   "execution_count": 12,
   "metadata": {},
   "outputs": [
    {
     "name": "stdout",
     "output_type": "stream",
     "text": [
      "Retrieving Results for Index 147: .\n",
      "Closest hotel is Dwyer's Leap.\n",
      "------------\n",
      "Retrieving Results for Index 170: .\n",
      "Closest hotel is Shwe Moe Hotel, Dawei City.\n",
      "------------\n",
      "Retrieving Results for Index 241: .\n",
      "Closest hotel is Restaurant Sol o Mar.\n",
      "------------\n",
      "Retrieving Results for Index 290: .\n",
      "Closest hotel is Ido Pedro Willers.\n",
      "------------\n",
      "Retrieving Results for Index 337: .\n",
      "Closest hotel is Manappuram Finance Ltd.\n",
      "------------\n",
      "Retrieving Results for Index 353: .\n",
      "Closest hotel is Massjid Velha De Inhambane.\n",
      "------------\n",
      "Retrieving Results for Index 411: .\n",
      "Closest hotel is Midland Saloon.\n",
      "------------\n",
      "Retrieving Results for Index 415: .\n",
      "Closest hotel is Pasni Ward 6.\n",
      "------------\n",
      "Retrieving Results for Index 436: .\n",
      "Closest hotel is ငွေလဝန်း (စက်ပစ္စည်းအရောင်းဆိုင်).\n",
      "------------\n",
      "Retrieving Results for Index 456: .\n",
      "Closest hotel is الامن الخارجي.\n",
      "------------\n",
      "Retrieving Results for Index 461: .\n",
      "Closest hotel is Happy Beach Hotel.\n",
      "------------\n",
      "Retrieving Results for Index 493: .\n",
      "Closest hotel is Mi Ba Myit Tar.\n",
      "------------\n"
     ]
    }
   ],
   "source": [
    "base_url = \"https://maps.googleapis.com/maps/api/place/nearbysearch/json\"\n",
    "params = {\n",
    "    \"rankby\": \"distance\",\n",
    "    \"type\": \"hotel\",\n",
    "    \"key\": g_key,\n",
    "}\n",
    "# use iterrows to iterate through pandas dataframe\n",
    "for index, row in nice_df.iterrows():\n",
    "\n",
    "    # get location from df\n",
    "    latlon = row[['Latitude', 'Longitude']]\n",
    "\n",
    "    # add keyword to params dict\n",
    "    params['location'] = f\"{latlon[0]}, {latlon[1]}\"\n",
    "\n",
    "    # assemble url and make API request\n",
    "    print(f\"Retrieving Results for Index {index}: .\")\n",
    "    response = requests.get(base_url, params=params).json()\n",
    "    \n",
    "    # extract results\n",
    "    results = response['results']\n",
    "    \n",
    "    try:\n",
    "        print(f\"Closest hotel is {results[0]['name']}.\")\n",
    "        \n",
    "        hotel_df.loc[index, 'Hotel Name'] = results[0]['name']\n",
    "        hotel_df.loc[index, 'Lat'] = results[0]['geometry']['location']['lat']\n",
    "        hotel_df.loc[index, 'Lng'] = results[0]['geometry']['location']['lng']\n",
    "        \n",
    "        nice_df.loc[index, 'Hotel Name'] = results[0]['name']\n",
    "        nice_df.loc[index, 'Lat'] = results[0]['geometry']['location']['lat']\n",
    "        nice_df.loc[index, 'Lng'] = results[0]['geometry']['location']['lng']\n",
    "\n",
    "        \n",
    "    except (KeyError, IndexError):\n",
    "        print(\"Missing field/result... skipping.\")\n",
    "        \n",
    "    print(\"------------\")"
   ]
  },
  {
   "cell_type": "code",
   "execution_count": 13,
   "metadata": {},
   "outputs": [],
   "source": [
    "# NOTE: Do not change any of the code in this cell\n",
    "\n",
    "# Using the template add the hotel marks to the heatmap\n",
    "info_box_template = \"\"\"\n",
    "<dl>\n",
    "<dt>Name</dt><dd>{Hotel Name}</dd>\n",
    "<dt>City</dt><dd>{City}</dd>\n",
    "<dt>Country</dt><dd>{Country}</dd>\n",
    "</dl>\n",
    "\"\"\"\n",
    "# Store the DataFrame Row\n",
    "# NOTE: be sure to update with your DataFrame name\n",
    "hotel_info = [info_box_template.format(**row) for index, row in nice_df.iterrows()]\n",
    "locations = hotel_df[[\"Lat\", \"Lng\"]]"
   ]
  },
  {
   "cell_type": "code",
   "execution_count": 14,
   "metadata": {},
   "outputs": [
    {
     "data": {
      "application/vnd.jupyter.widget-view+json": {
       "model_id": "7d06dff3ecb54655951cb33a26b5f8b8",
       "version_major": 2,
       "version_minor": 0
      },
      "text/plain": [
       "Figure(layout=FigureLayout(border='1px solid black', height='450px', margin='0 auto 0 auto', padding='1px', wi…"
      ]
     },
     "metadata": {},
     "output_type": "display_data"
    }
   ],
   "source": [
    "# Add marker layer ontop of heat map\n",
    "markers = gmaps.marker_layer(locations)\n",
    "fig.add_layer(markers)\n",
    "# Display Map\n",
    "fig\n"
   ]
  },
  {
   "cell_type": "code",
   "execution_count": null,
   "metadata": {},
   "outputs": [],
   "source": []
  },
  {
   "cell_type": "code",
   "execution_count": null,
   "metadata": {},
   "outputs": [],
   "source": []
  }
 ],
 "metadata": {
  "kernelspec": {
   "display_name": "Python 3",
   "language": "python",
   "name": "python3"
  },
  "language_info": {
   "codemirror_mode": {
    "name": "ipython",
    "version": 3
   },
   "file_extension": ".py",
   "mimetype": "text/x-python",
   "name": "python",
   "nbconvert_exporter": "python",
   "pygments_lexer": "ipython3",
<<<<<<< HEAD
   "version": "3.8.1"
=======
   "version": "3.7.7"
>>>>>>> c905d9eaf1e6306a9f004e798f20122aee3ac44a
  },
  "latex_envs": {
   "LaTeX_envs_menu_present": true,
   "autoclose": false,
   "autocomplete": true,
   "bibliofile": "biblio.bib",
   "cite_by": "apalike",
   "current_citInitial": 1,
   "eqLabelWithNumbers": true,
   "eqNumInitial": 1,
   "hotkeys": {
    "equation": "Ctrl-E",
    "itemize": "Ctrl-I"
   },
   "labels_anchors": false,
   "latex_user_defs": false,
   "report_style_numbering": false,
   "user_envs_cfg": false
  }
 },
 "nbformat": 4,
 "nbformat_minor": 4
}
